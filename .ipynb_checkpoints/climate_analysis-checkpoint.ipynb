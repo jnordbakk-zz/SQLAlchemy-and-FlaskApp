{
 "cells": [
  {
   "cell_type": "code",
   "execution_count": 1,
   "metadata": {},
   "outputs": [],
   "source": [
    "# Python SQL toolkit and Object Relational Mapper\n",
    "import sqlalchemy\n",
    "from sqlalchemy.ext.automap import automap_base\n",
    "from sqlalchemy.orm import Session\n",
    "from sqlalchemy import create_engine\n",
    "\n",
    "import matplotlib\n",
    "from matplotlib import style\n",
    "# style.use('fivethirtyeight')\n",
    "import matplotlib.pyplot as plt\n",
    "import numpy as np\n",
    "\n",
    "import pandas as pd"
   ]
  },
  {
   "cell_type": "code",
   "execution_count": 2,
   "metadata": {},
   "outputs": [],
   "source": [
    "# Create engine using the database file\n",
    "engine = create_engine(\"sqlite:///surfsup.sqlite\")"
   ]
  },
  {
   "cell_type": "code",
   "execution_count": 3,
   "metadata": {},
   "outputs": [],
   "source": [
    "# Declare a Base using `automap_base()`\n",
    "Base = automap_base()"
   ]
  },
  {
   "cell_type": "code",
   "execution_count": 4,
   "metadata": {},
   "outputs": [],
   "source": [
    "# Use the Base class to reflect the database tables\n",
    "Base.prepare(engine, reflect=True)"
   ]
  },
  {
   "cell_type": "code",
   "execution_count": 5,
   "metadata": {},
   "outputs": [
    {
     "data": {
      "text/plain": [
       "[]"
      ]
     },
     "execution_count": 5,
     "metadata": {},
     "output_type": "execute_result"
    }
   ],
   "source": [
    "# Print all of the classes mapped to the Base\n",
    "Base.classes.keys()"
   ]
  },
  {
   "cell_type": "code",
   "execution_count": 6,
   "metadata": {},
   "outputs": [
    {
     "data": {
      "text/html": [
       "<div>\n",
       "<style scoped>\n",
       "    .dataframe tbody tr th:only-of-type {\n",
       "        vertical-align: middle;\n",
       "    }\n",
       "\n",
       "    .dataframe tbody tr th {\n",
       "        vertical-align: top;\n",
       "    }\n",
       "\n",
       "    .dataframe thead th {\n",
       "        text-align: right;\n",
       "    }\n",
       "</style>\n",
       "<table border=\"1\" class=\"dataframe\">\n",
       "  <thead>\n",
       "    <tr style=\"text-align: right;\">\n",
       "      <th></th>\n",
       "      <th>date</th>\n",
       "      <th>prcp</th>\n",
       "    </tr>\n",
       "  </thead>\n",
       "  <tbody>\n",
       "    <tr>\n",
       "      <th>0</th>\n",
       "      <td>2017-08-23</td>\n",
       "      <td>0.00</td>\n",
       "    </tr>\n",
       "    <tr>\n",
       "      <th>1</th>\n",
       "      <td>2017-08-23</td>\n",
       "      <td>0.00</td>\n",
       "    </tr>\n",
       "    <tr>\n",
       "      <th>2</th>\n",
       "      <td>2017-08-23</td>\n",
       "      <td>0.08</td>\n",
       "    </tr>\n",
       "    <tr>\n",
       "      <th>3</th>\n",
       "      <td>2017-08-23</td>\n",
       "      <td>0.45</td>\n",
       "    </tr>\n",
       "    <tr>\n",
       "      <th>4</th>\n",
       "      <td>2017-08-22</td>\n",
       "      <td>0.00</td>\n",
       "    </tr>\n",
       "  </tbody>\n",
       "</table>\n",
       "</div>"
      ],
      "text/plain": [
       "         date  prcp\n",
       "0  2017-08-23  0.00\n",
       "1  2017-08-23  0.00\n",
       "2  2017-08-23  0.08\n",
       "3  2017-08-23  0.45\n",
       "4  2017-08-22  0.00"
      ]
     },
     "execution_count": 6,
     "metadata": {},
     "output_type": "execute_result"
    }
   ],
   "source": [
    "## As I am not able to read the data into classes, I have to find a different way to run queries\n",
    "## First descend by date, so that I know how to write my query for last 12 months of data\n",
    "\n",
    "measurement = pd.read_sql(\"SELECT date, prcp FROM measurement ORDER BY date DESC\", engine)\n",
    "measurement.head()"
   ]
  },
  {
   "cell_type": "code",
   "execution_count": 7,
   "metadata": {},
   "outputs": [
    {
     "data": {
      "text/html": [
       "<div>\n",
       "<style scoped>\n",
       "    .dataframe tbody tr th:only-of-type {\n",
       "        vertical-align: middle;\n",
       "    }\n",
       "\n",
       "    .dataframe tbody tr th {\n",
       "        vertical-align: top;\n",
       "    }\n",
       "\n",
       "    .dataframe thead th {\n",
       "        text-align: right;\n",
       "    }\n",
       "</style>\n",
       "<table border=\"1\" class=\"dataframe\">\n",
       "  <thead>\n",
       "    <tr style=\"text-align: right;\">\n",
       "      <th></th>\n",
       "      <th>date</th>\n",
       "      <th>prcp</th>\n",
       "    </tr>\n",
       "  </thead>\n",
       "  <tbody>\n",
       "    <tr>\n",
       "      <th>0</th>\n",
       "      <td>2016-08-23</td>\n",
       "      <td>0.00</td>\n",
       "    </tr>\n",
       "    <tr>\n",
       "      <th>1</th>\n",
       "      <td>2016-08-24</td>\n",
       "      <td>0.08</td>\n",
       "    </tr>\n",
       "    <tr>\n",
       "      <th>2</th>\n",
       "      <td>2016-08-25</td>\n",
       "      <td>0.08</td>\n",
       "    </tr>\n",
       "    <tr>\n",
       "      <th>3</th>\n",
       "      <td>2016-08-26</td>\n",
       "      <td>0.00</td>\n",
       "    </tr>\n",
       "    <tr>\n",
       "      <th>4</th>\n",
       "      <td>2016-08-27</td>\n",
       "      <td>0.00</td>\n",
       "    </tr>\n",
       "  </tbody>\n",
       "</table>\n",
       "</div>"
      ],
      "text/plain": [
       "         date  prcp\n",
       "0  2016-08-23  0.00\n",
       "1  2016-08-24  0.08\n",
       "2  2016-08-25  0.08\n",
       "3  2016-08-26  0.00\n",
       "4  2016-08-27  0.00"
      ]
     },
     "execution_count": 7,
     "metadata": {},
     "output_type": "execute_result"
    }
   ],
   "source": [
    "##* Design a query to retrieve the last 12 months of precipitation data.\n",
    "\n",
    "measurement = pd.read_sql(\"SELECT date, prcp FROM measurement WHERE date >= '2016-08-23'\", engine)\n",
    "measurement.head()"
   ]
  },
  {
   "cell_type": "code",
   "execution_count": 256,
   "metadata": {},
   "outputs": [
    {
     "data": {
      "text/plain": [
       "Text(0.5,0,'Date')"
      ]
     },
     "execution_count": 256,
     "metadata": {},
     "output_type": "execute_result"
    },
    {
     "data": {
      "image/png": "[encoded data removed]",
      "text/plain": [
       "<matplotlib.figure.Figure at 0x114ae04a8>"
      ]
     },
     "metadata": {},
     "output_type": "display_data"
    }
   ],
   "source": [
    "measurement.plot(kind='line')\n",
    "plt.title(\"Precipitation Analysis\")\n",
    "plt.ylabel(\"prcp\")\n",
    "plt.xlabel(\"Date\")\n",
    "# plt.tight_layout()"
   ]
  },
  {
   "cell_type": "code",
   "execution_count": null,
   "metadata": {},
   "outputs": [],
   "source": [
    "measurement[\"prcp\"].describe()"
   ]
  },
  {
   "cell_type": "code",
   "execution_count": 257,
   "metadata": {},
   "outputs": [
    {
     "data": {
      "text/html": [
       "<div>\n",
       "<style scoped>\n",
       "    .dataframe tbody tr th:only-of-type {\n",
       "        vertical-align: middle;\n",
       "    }\n",
       "\n",
       "    .dataframe tbody tr th {\n",
       "        vertical-align: top;\n",
       "    }\n",
       "\n",
       "    .dataframe thead th {\n",
       "        text-align: right;\n",
       "    }\n",
       "</style>\n",
       "<table border=\"1\" class=\"dataframe\">\n",
       "  <thead>\n",
       "    <tr style=\"text-align: right;\">\n",
       "      <th></th>\n",
       "      <th>count(station)</th>\n",
       "    </tr>\n",
       "  </thead>\n",
       "  <tbody>\n",
       "    <tr>\n",
       "      <th>0</th>\n",
       "      <td>9</td>\n",
       "    </tr>\n",
       "  </tbody>\n",
       "</table>\n",
       "</div>"
      ],
      "text/plain": [
       "   count(station)\n",
       "0               9"
      ]
     },
     "execution_count": 257,
     "metadata": {},
     "output_type": "execute_result"
    }
   ],
   "source": [
    "##Design a query to calculate the total number of stations.\n",
    "\n",
    "stations = pd.read_sql(\"SELECT count(station) FROM stations\", engine)\n",
    "stations.head()"
   ]
  },
  {
   "cell_type": "code",
   "execution_count": 260,
   "metadata": {},
   "outputs": [
    {
     "data": {
      "text/html": [
       "<div>\n",
       "<style scoped>\n",
       "    .dataframe tbody tr th:only-of-type {\n",
       "        vertical-align: middle;\n",
       "    }\n",
       "\n",
       "    .dataframe tbody tr th {\n",
       "        vertical-align: top;\n",
       "    }\n",
       "\n",
       "    .dataframe thead th {\n",
       "        text-align: right;\n",
       "    }\n",
       "</style>\n",
       "<table border=\"1\" class=\"dataframe\">\n",
       "  <thead>\n",
       "    <tr style=\"text-align: right;\">\n",
       "      <th></th>\n",
       "      <th>station</th>\n",
       "      <th>name</th>\n",
       "      <th>id</th>\n",
       "      <th>date</th>\n",
       "      <th>id</th>\n",
       "      <th>incidents</th>\n",
       "    </tr>\n",
       "  </thead>\n",
       "  <tbody>\n",
       "    <tr>\n",
       "      <th>0</th>\n",
       "      <td>USC00519281</td>\n",
       "      <td>WAIHEE 837.5, HI US</td>\n",
       "      <td>6</td>\n",
       "      <td>2017-08-18</td>\n",
       "      <td>13686</td>\n",
       "      <td>2772</td>\n",
       "    </tr>\n",
       "    <tr>\n",
       "      <th>1</th>\n",
       "      <td>USC00513117</td>\n",
       "      <td>KANEOHE 838.1, HI US</td>\n",
       "      <td>1</td>\n",
       "      <td>2017-07-31</td>\n",
       "      <td>5380</td>\n",
       "      <td>2696</td>\n",
       "    </tr>\n",
       "    <tr>\n",
       "      <th>2</th>\n",
       "      <td>USC00519397</td>\n",
       "      <td>WAIKIKI 717.2, HI US</td>\n",
       "      <td>0</td>\n",
       "      <td>2017-08-23</td>\n",
       "      <td>2684</td>\n",
       "      <td>2685</td>\n",
       "    </tr>\n",
       "    <tr>\n",
       "      <th>3</th>\n",
       "      <td>USC00519523</td>\n",
       "      <td>WAIMANALO EXPERIMENTAL FARM, HI US</td>\n",
       "      <td>5</td>\n",
       "      <td>2017-08-23</td>\n",
       "      <td>10914</td>\n",
       "      <td>2572</td>\n",
       "    </tr>\n",
       "    <tr>\n",
       "      <th>4</th>\n",
       "      <td>USC00516128</td>\n",
       "      <td>MANOA LYON ARBO 785.2, HI US</td>\n",
       "      <td>8</td>\n",
       "      <td>2017-08-23</td>\n",
       "      <td>18102</td>\n",
       "      <td>2484</td>\n",
       "    </tr>\n",
       "    <tr>\n",
       "      <th>5</th>\n",
       "      <td>USC00514830</td>\n",
       "      <td>KUALOA RANCH HEADQUARTERS 886.9, HI US</td>\n",
       "      <td>2</td>\n",
       "      <td>2017-08-23</td>\n",
       "      <td>7317</td>\n",
       "      <td>1937</td>\n",
       "    </tr>\n",
       "    <tr>\n",
       "      <th>6</th>\n",
       "      <td>USC00511918</td>\n",
       "      <td>HONOLULU OBSERVATORY 702.2, HI US</td>\n",
       "      <td>7</td>\n",
       "      <td>2015-10-30</td>\n",
       "      <td>15618</td>\n",
       "      <td>1932</td>\n",
       "    </tr>\n",
       "    <tr>\n",
       "      <th>7</th>\n",
       "      <td>USC00517948</td>\n",
       "      <td>PEARL CITY, HI US</td>\n",
       "      <td>3</td>\n",
       "      <td>2017-07-28</td>\n",
       "      <td>8000</td>\n",
       "      <td>683</td>\n",
       "    </tr>\n",
       "    <tr>\n",
       "      <th>8</th>\n",
       "      <td>USC00518838</td>\n",
       "      <td>UPPER WAHIAWA 874.3, HI US</td>\n",
       "      <td>4</td>\n",
       "      <td>2015-10-20</td>\n",
       "      <td>8342</td>\n",
       "      <td>342</td>\n",
       "    </tr>\n",
       "  </tbody>\n",
       "</table>\n",
       "</div>"
      ],
      "text/plain": [
       "       station                                    name  id        date     id  \\\n",
       "0  USC00519281                     WAIHEE 837.5, HI US   6  2017-08-18  13686   \n",
       "1  USC00513117                    KANEOHE 838.1, HI US   1  2017-07-31   5380   \n",
       "2  USC00519397                    WAIKIKI 717.2, HI US   0  2017-08-23   2684   \n",
       "3  USC00519523      WAIMANALO EXPERIMENTAL FARM, HI US   5  2017-08-23  10914   \n",
       "4  USC00516128            MANOA LYON ARBO 785.2, HI US   8  2017-08-23  18102   \n",
       "5  USC00514830  KUALOA RANCH HEADQUARTERS 886.9, HI US   2  2017-08-23   7317   \n",
       "6  USC00511918       HONOLULU OBSERVATORY 702.2, HI US   7  2015-10-30  15618   \n",
       "7  USC00517948                       PEARL CITY, HI US   3  2017-07-28   8000   \n",
       "8  USC00518838              UPPER WAHIAWA 874.3, HI US   4  2015-10-20   8342   \n",
       "\n",
       "   incidents  \n",
       "0       2772  \n",
       "1       2696  \n",
       "2       2685  \n",
       "3       2572  \n",
       "4       2484  \n",
       "5       1937  \n",
       "6       1932  \n",
       "7        683  \n",
       "8        342  "
      ]
     },
     "execution_count": 260,
     "metadata": {},
     "output_type": "execute_result"
    }
   ],
   "source": [
    "##* Design a query to find the most active stations. Answer: station:USC00519281, id:6\n",
    "\n",
    "qry = (\"\"\"\n",
    "        SELECT s.station,\n",
    "               s.name,\n",
    "               s.id,\n",
    "               m.date,\n",
    "               m.id,\n",
    "               count(m.id) as incidents\n",
    "        FROM measurement m\n",
    "        LEFT JOIN stations s\n",
    "        ON s.station=m.station\n",
    "        GROUP BY s.station\n",
    "        ORDER BY incidents DESC;\n",
    "        \"\"\"\n",
    "      )\n",
    "\n",
    "active = pd.read_sql(qry, engine)\n",
    "active"
   ]
  },
  {
   "cell_type": "code",
   "execution_count": 266,
   "metadata": {},
   "outputs": [
    {
     "data": {
      "text/html": [
       "<div>\n",
       "<style scoped>\n",
       "    .dataframe tbody tr th:only-of-type {\n",
       "        vertical-align: middle;\n",
       "    }\n",
       "\n",
       "    .dataframe tbody tr th {\n",
       "        vertical-align: top;\n",
       "    }\n",
       "\n",
       "    .dataframe thead th {\n",
       "        text-align: right;\n",
       "    }\n",
       "</style>\n",
       "<table border=\"1\" class=\"dataframe\">\n",
       "  <thead>\n",
       "    <tr style=\"text-align: right;\">\n",
       "      <th></th>\n",
       "      <th>station</th>\n",
       "      <th>name</th>\n",
       "      <th>station_id</th>\n",
       "      <th>date</th>\n",
       "      <th>incident_id</th>\n",
       "      <th>Period</th>\n",
       "      <th>count</th>\n",
       "    </tr>\n",
       "  </thead>\n",
       "  <tbody>\n",
       "    <tr>\n",
       "      <th>0</th>\n",
       "      <td>USC00519281</td>\n",
       "      <td>WAIHEE 837.5, HI US</td>\n",
       "      <td>6</td>\n",
       "      <td>2017-08-18</td>\n",
       "      <td>13686</td>\n",
       "      <td>17-08</td>\n",
       "      <td>9</td>\n",
       "    </tr>\n",
       "    <tr>\n",
       "      <th>1</th>\n",
       "      <td>USC00519281</td>\n",
       "      <td>WAIHEE 837.5, HI US</td>\n",
       "      <td>6</td>\n",
       "      <td>2017-07-31</td>\n",
       "      <td>13677</td>\n",
       "      <td>17-07</td>\n",
       "      <td>31</td>\n",
       "    </tr>\n",
       "    <tr>\n",
       "      <th>2</th>\n",
       "      <td>USC00519281</td>\n",
       "      <td>WAIHEE 837.5, HI US</td>\n",
       "      <td>6</td>\n",
       "      <td>2017-06-30</td>\n",
       "      <td>13646</td>\n",
       "      <td>17-06</td>\n",
       "      <td>30</td>\n",
       "    </tr>\n",
       "    <tr>\n",
       "      <th>3</th>\n",
       "      <td>USC00519281</td>\n",
       "      <td>WAIHEE 837.5, HI US</td>\n",
       "      <td>6</td>\n",
       "      <td>2017-05-31</td>\n",
       "      <td>13616</td>\n",
       "      <td>17-05</td>\n",
       "      <td>31</td>\n",
       "    </tr>\n",
       "    <tr>\n",
       "      <th>4</th>\n",
       "      <td>USC00519281</td>\n",
       "      <td>WAIHEE 837.5, HI US</td>\n",
       "      <td>6</td>\n",
       "      <td>2017-04-30</td>\n",
       "      <td>13585</td>\n",
       "      <td>17-04</td>\n",
       "      <td>30</td>\n",
       "    </tr>\n",
       "  </tbody>\n",
       "</table>\n",
       "</div>"
      ],
      "text/plain": [
       "       station                 name  station_id        date  incident_id  \\\n",
       "0  USC00519281  WAIHEE 837.5, HI US           6  2017-08-18        13686   \n",
       "1  USC00519281  WAIHEE 837.5, HI US           6  2017-07-31        13677   \n",
       "2  USC00519281  WAIHEE 837.5, HI US           6  2017-06-30        13646   \n",
       "3  USC00519281  WAIHEE 837.5, HI US           6  2017-05-31        13616   \n",
       "4  USC00519281  WAIHEE 837.5, HI US           6  2017-04-30        13585   \n",
       "\n",
       "  Period  count  \n",
       "0  17-08      9  \n",
       "1  17-07     31  \n",
       "2  17-06     30  \n",
       "3  17-05     31  \n",
       "4  17-04     30  "
      ]
     },
     "execution_count": 266,
     "metadata": {},
     "output_type": "execute_result"
    }
   ],
   "source": [
    "## Design a query to retrieve the last 12 months of temperature observation data (tobs).\n",
    "\n",
    "\n",
    "qry = (\"\"\"\n",
    "       SELECT s.station,\n",
    "               s.name,\n",
    "               s.id as station_id,\n",
    "               m.date,\n",
    "               m.id as incident_id,\n",
    "               SUBSTR(date,3,5) as Period,\n",
    "               count(s.name) as count\n",
    "         FROM measurement m\n",
    "         LEFT JOIN stations s\n",
    "         ON s.station=m.station\n",
    "         WHERE station_id= '6'\n",
    "         GROUP BY SUBSTR(date,3,5)\n",
    "         HAVING m.date >= '2016-08-23'\n",
    "         ORDER BY m. date DESC\n",
    "         ;\n",
    "       \"\"\"\n",
    "      )\n",
    "\n",
    "\n",
    "\n",
    "\n",
    "months = pd.read_sql(qry, engine)\n",
    "months.head()"
   ]
  },
  {
   "cell_type": "code",
   "execution_count": 268,
   "metadata": {},
   "outputs": [
    {
     "data": {
      "text/plain": [
       "Text(0,0.5,'Number of incidents ')"
      ]
     },
     "execution_count": 268,
     "metadata": {},
     "output_type": "execute_result"
    },
    {
     "data": {
      "image/png": "[encoded data removed]",
      "text/plain": [
       "<matplotlib.figure.Figure at 0x116921828>"
      ]
     },
     "metadata": {},
     "output_type": "display_data"
    }
   ],
   "source": [
    "# Set x axis and tick locations\n",
    "x_axis = np.arange(len(months))\n",
    "\n",
    "# Create a list indicating where to write x labels and set figure size to adjust for space\n",
    "plt.figure(figsize=(20,3))\n",
    "plt.bar(x_axis, months[\"count\"], color='r', alpha=0.5)\n",
    "plt.xticks(x_axis, months[\"Period\"], rotation=\"vertical\")\n",
    "\n",
    "# Set x and y limits\n",
    "plt.xlim(-0.75, len(x_axis))\n",
    "plt.ylim(0, max(months[\"count\"])+10)\n",
    "\n",
    "# Set a Title and labels\n",
    "plt.title(\"Station Analysis\")\n",
    "plt.xlabel(\"Periods\")\n",
    "plt.ylabel(\"Number of incidents \")"
   ]
  },
  {
   "cell_type": "code",
   "execution_count": 20,
   "metadata": {},
   "outputs": [],
   "source": [
    "def calc_temps(start,end):\n",
    "   \n",
    "    qry = (\"\"\"\n",
    "        SELECT \n",
    "              date,\n",
    "              tobs\n",
    "         FROM measurement \n",
    "         ;\n",
    "       \"\"\"\n",
    "      )\n",
    "    \n",
    "    df = pd.read_sql(qry, engine)\n",
    "    df1=df[(df['date'] > start) & (df['date'] < end)]\n",
    "    avg=df1.mean()\n",
    "    minimum=df1.min()\n",
    "    maximum=df1.max()\n",
    "\n",
    "    print(f\"the avergae is:{avg[0]}\")\n",
    "\n",
    "    print(f\"the max is:{maximum[1]}\")\n",
    "\n",
    "    print(f\"the min is:{minimum[1]}\")\n",
    "    \n",
    "    average=[0,avg[0],0]\n",
    "    labels=['','average','']\n",
    "    x_axis = np.arange(len(average))\n",
    "\n",
    "    plt.bar(x_axis ,average,tick_label=labels, alpha=0.5)\n",
    "    \n",
    "    \n",
    "    "
   ]
  },
  {
   "cell_type": "code",
   "execution_count": 21,
   "metadata": {},
   "outputs": [
    {
     "name": "stdout",
     "output_type": "stream",
     "text": [
      "the avergae is:77.66956521739131\n",
      "the max is:84\n",
      "the min is:70\n"
     ]
    },
    {
     "data": {
      "image/png": "[encoded data removed]",
      "text/plain": [
       "<matplotlib.figure.Figure at 0x10b9e7630>"
      ]
     },
     "metadata": {},
     "output_type": "display_data"
    }
   ],
   "source": [
    "calc_temps('2016-08-23','2016-10-23')"
   ]
  },
  {
   "cell_type": "code",
   "execution_count": 19,
   "metadata": {},
   "outputs": [
    {
     "name": "stdout",
     "output_type": "stream",
     "text": [
      "the avergae is:77.66956521739131\n",
      "the max is:84\n",
      "the min is:70\n"
     ]
    },
    {
     "data": {
      "text/plain": [
       "<Container object of 3 artists>"
      ]
     },
     "execution_count": 19,
     "metadata": {},
     "output_type": "execute_result"
    },
    {
     "data": {
      "image/png": "[encoded data removed]",
      "text/plain": [
       "<matplotlib.figure.Figure at 0x10ba64898>"
      ]
     },
     "metadata": {},
     "output_type": "display_data"
    }
   ],
   "source": [
    "\n",
    "qry1 = (\"\"\"\n",
    "        SELECT station,\n",
    "              date,\n",
    "              max(tobs) as max,\n",
    "              min(tobs) as min,\n",
    "              avg(tobs) as avg\n",
    "         FROM measurement \n",
    "         ;\n",
    "       \"\"\"\n",
    "      )\n",
    "\n",
    "\n",
    "qry = (\"\"\"\n",
    "        SELECT \n",
    "              date,\n",
    "              tobs\n",
    "         FROM measurement \n",
    "         ;\n",
    "       \"\"\"\n",
    "      )\n",
    "  \n",
    "# WHERE date >= '2016-08-23' and date< '2016-10-23'\n",
    "\n",
    "\n",
    "df = pd.read_sql(qry, engine)\n",
    "df1=df[(df['date'] > '2016-08-23') & (df['date'] < '2016-10-23')]\n",
    "avg=df1.mean()\n",
    "minimum=df1.min()\n",
    "maximum=df1.max()\n",
    "\n",
    "print(f\"the avergae is:{avg[0]}\")\n",
    "\n",
    "print(f\"the max is:{maximum[1]}\")\n",
    "\n",
    "print(f\"the min is:{minimum[1]}\")\n",
    "\n",
    "average=[0,avg[0],0]\n",
    "labels=['','average','']\n",
    "# average=[avg[0]]\n",
    "# labels=['average']\n",
    "\n",
    "x_axis = np.arange(len(average))\n",
    "\n",
    "plt.bar(x_axis ,average,tick_label=labels, alpha=0.5)\n",
    "# plt.show\n",
    "\n",
    "# plt.xlim(0, 8)\n",
    "#  plt.ylim(0, max(months[\"count\"])+10)\n",
    "\n",
    "\n",
    "\n",
    "\n",
    "\n",
    "\n"
   ]
  },
  {
   "cell_type": "code",
   "execution_count": 10,
   "metadata": {},
   "outputs": [
    {
     "data": {
      "text/plain": [
       "0        2010-01-01\n",
       "1        2010-01-02\n",
       "2        2010-01-03\n",
       "3        2010-01-04\n",
       "4        2010-01-07\n",
       "5        2010-01-08\n",
       "6        2010-01-09\n",
       "7        2010-01-10\n",
       "8        2010-01-11\n",
       "9        2010-01-12\n",
       "10       2010-01-14\n",
       "11       2010-01-15\n",
       "12       2010-01-16\n",
       "13       2010-01-17\n",
       "14       2010-01-18\n",
       "15       2010-01-19\n",
       "16       2010-01-20\n",
       "17       2010-01-21\n",
       "18       2010-01-22\n",
       "19       2010-01-23\n",
       "20       2010-01-24\n",
       "21       2010-01-25\n",
       "22       2010-01-26\n",
       "23       2010-01-27\n",
       "24       2010-01-28\n",
       "25       2010-01-31\n",
       "26       2010-02-01\n",
       "27       2010-02-04\n",
       "28       2010-02-05\n",
       "29       2010-02-06\n",
       "            ...    \n",
       "18073    2017-07-17\n",
       "18074    2017-07-18\n",
       "18075    2017-07-19\n",
       "18076    2017-07-20\n",
       "18077    2017-07-21\n",
       "18078    2017-07-22\n",
       "18079    2017-07-23\n",
       "18080    2017-07-24\n",
       "18081    2017-07-25\n",
       "18082    2017-07-26\n",
       "18083    2017-07-27\n",
       "18084    2017-07-28\n",
       "18085    2017-07-29\n",
       "18086    2017-07-30\n",
       "18087    2017-07-31\n",
       "18088    2017-08-02\n",
       "18089    2017-08-03\n",
       "18090    2017-08-07\n",
       "18091    2017-08-08\n",
       "18092    2017-08-09\n",
       "18093    2017-08-10\n",
       "18094    2017-08-12\n",
       "18095    2017-08-14\n",
       "18096    2017-08-15\n",
       "18097    2017-08-16\n",
       "18098    2017-08-17\n",
       "18099    2017-08-19\n",
       "18100    2017-08-21\n",
       "18101    2017-08-22\n",
       "18102    2017-08-23\n",
       "Name: date, Length: 18103, dtype: object"
      ]
     },
     "execution_count": 10,
     "metadata": {},
     "output_type": "execute_result"
    }
   ],
   "source": []
  },
  {
   "cell_type": "code",
   "execution_count": 331,
   "metadata": {},
   "outputs": [
    {
     "data": {
      "text/html": [
       "<div>\n",
       "<style scoped>\n",
       "    .dataframe tbody tr th:only-of-type {\n",
       "        vertical-align: middle;\n",
       "    }\n",
       "\n",
       "    .dataframe tbody tr th {\n",
       "        vertical-align: top;\n",
       "    }\n",
       "\n",
       "    .dataframe thead th {\n",
       "        text-align: right;\n",
       "    }\n",
       "</style>\n",
       "<table border=\"1\" class=\"dataframe\">\n",
       "  <thead>\n",
       "    <tr style=\"text-align: right;\">\n",
       "      <th></th>\n",
       "      <th>station</th>\n",
       "      <th>date</th>\n",
       "      <th>max</th>\n",
       "      <th>min</th>\n",
       "      <th>avg</th>\n",
       "    </tr>\n",
       "  </thead>\n",
       "  <tbody>\n",
       "    <tr>\n",
       "      <th>0</th>\n",
       "      <td>USC00516128</td>\n",
       "      <td>2016-09-19</td>\n",
       "      <td>84</td>\n",
       "      <td>70</td>\n",
       "      <td>77.675214</td>\n",
       "    </tr>\n",
       "  </tbody>\n",
       "</table>\n",
       "</div>"
      ],
      "text/plain": [
       "       station        date  max  min        avg\n",
       "0  USC00516128  2016-09-19   84   70  77.675214"
      ]
     },
     "execution_count": 331,
     "metadata": {},
     "output_type": "execute_result"
    }
   ],
   "source": [
    "\n",
    "qry = (\"\"\"\n",
    "        SELECT station,\n",
    "              date,\n",
    "              max(tobs) as max,\n",
    "              min(tobs) as min,\n",
    "              avg(tobs) as avg\n",
    "         FROM measurement \n",
    "         WHERE date >= '2016-08-23' and date< '2016-10-23'\n",
    "         ;\n",
    "       \"\"\"\n",
    "      )\n",
    "  \n",
    "# WHERE date >= '2016-08-23' and date< '2016-10-23'\n",
    "\n",
    "\n",
    "df = pd.read_sql(qry, engine)\n",
    "# df[(df['date'] > '2016-08-23') & (df['date'] < '2016-10-23')]\n",
    "df"
   ]
  },
  {
   "cell_type": "code",
   "execution_count": null,
   "metadata": {},
   "outputs": [],
   "source": []
  }
 ],
 "metadata": {
  "kernelspec": {
   "display_name": "Python 3",
   "language": "python",
   "name": "python3"
  },
  "language_info": {
   "codemirror_mode": {
    "name": "ipython",
    "version": 3
   },
   "file_extension": ".py",
   "mimetype": "text/x-python",
   "name": "python",
   "nbconvert_exporter": "python",
   "pygments_lexer": "ipython3",
   "version": "3.6.4"
  }
 },
 "nbformat": 4,
 "nbformat_minor": 2
}
